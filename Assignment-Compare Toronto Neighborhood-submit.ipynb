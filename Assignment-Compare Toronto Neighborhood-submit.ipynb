{
 "cells": [
  {
   "cell_type": "markdown",
   "metadata": {},
   "source": [
    "# Analyzing Toronto Neighborhoods\n",
    "\n",
    "#### by Sushant Deshpande"
   ]
  },
  {
   "cell_type": "markdown",
   "metadata": {},
   "source": [
    "# --------Week 1--------"
   ]
  },
  {
   "cell_type": "markdown",
   "metadata": {},
   "source": [
    "## SEGMENT 1 : Define a problem or an idea\n",
    "\n",
    "A group of investors would like to open a restaurant in Toronto but aren't sure which one to open and where to open. In this project, we'll use python's web scraping to get the postal codes for Toronto’s neighborhoods, use the geographical coordinates provided to us in the last course and use FourSquare's API to get a list of nearby restaurants in a given locality.\n",
    "\n",
    "We'll visualize the data using maps and bar charts. This will help us understand which type of restaurant is most popular in a given locality. With this information, investors can come to a decision."
   ]
  },
  {
   "cell_type": "markdown",
   "metadata": {},
   "source": [
    "## SEGMENT 2 : Describe the data\n",
    "\n",
    "I started by getting the postal codes of Toronto from wikipedia using python's web scraping method. After that, I had to clean up the data and then merge the data with the geographical coordinate file provided to us in this course. Once I had all the postal codes with their corresponding geographical coordinates, the I leveraged the power of FourSquare to get a wealth of information.\n",
    "\n",
    "FourSquare allowed me to get all the venues in my selected neighborhood. In this project, I only focused on East and West Toronto, but with FourSquare, the possibilities are unlimited. In the end, I had a clear picture of what is popular in which locality. With this knowledge, and investor and easily and quickly come to a decision as to where he wants to invest in in what."
   ]
  },
  {
   "cell_type": "markdown",
   "metadata": {},
   "source": [
    "# --------Week 2--------\n",
    "\n",
    "### Still working on it..."
   ]
  },
  {
   "cell_type": "code",
   "execution_count": null,
   "metadata": {},
   "outputs": [],
   "source": [
    "from bs4 import BeautifulSoup\n",
    "from collections import defaultdict\n",
    "import requests\n",
    "import csv\n",
    "import matplotlib as mpl\n",
    "import matplotlib.pyplot as plt\n",
    "import seaborn as sns\n",
    "from urllib.request import urlopen\n",
    "%matplotlib inline\n",
    "import numpy as np # library to handle data in a vectorized manner\n",
    "import pandas as pd # library for data analsysis\n",
    "pd.set_option('display.max_columns', None)\n",
    "pd.set_option('display.max_rows', None)\n",
    "import json # library to handle JSON files\n",
    "!conda install -c conda-forge geopy --yes # uncomment this line if you haven't completed the Foursquare API lab\n",
    "from geopy.geocoders import Nominatim # convert an address into latitude and longitude values\n",
    "import requests # library to handle requests\n",
    "from pandas.io.json import json_normalize # tranform JSON file into a pandas dataframe\n",
    "# Matplotlib and associated plotting modules\n",
    "import matplotlib.cm as cm\n",
    "import matplotlib.colors as colors\n",
    "# import k-means from clustering stage\n",
    "from sklearn.cluster import KMeans\n",
    "!conda install -c conda-forge folium=0.5.0 --yes # uncomment this line if you haven't completed the Foursquare API lab\n",
    "import folium # map rendering library\n",
    "print('Libraries imported.')"
   ]
  },
  {
   "cell_type": "code",
   "execution_count": null,
   "metadata": {},
   "outputs": [],
   "source": [
    "url = \"https://en.wikipedia.org/wiki/List_of_postal_codes_of_Canada:_M\"\n",
    "html = urlopen(url)\n",
    "soup = BeautifulSoup(html, 'lxml')\n",
    "title = soup.title\n",
    "text = soup.get_text()\n",
    "rows = soup.find_all('tr')\n",
    "for row in rows:\n",
    "    row_td = row.find_all('td')\n",
    "print(row_td)\n",
    "type(row_td)\n",
    "\n",
    "import re\n",
    "\n",
    "list_rows = []\n",
    "for row in rows:\n",
    "    cells = row.find_all('td')\n",
    "    str_cells = str(cells)\n",
    "    clean = re.compile('<.*?>')\n",
    "    clean2 = (re.sub(clean, '',str_cells))\n",
    "    list_rows.append(clean2)\n",
    "print(clean2)\n",
    "type(clean2)\n",
    "\n",
    "df = pd.DataFrame(list_rows)\n",
    "df.head(10)"
   ]
  },
  {
   "cell_type": "code",
   "execution_count": null,
   "metadata": {},
   "outputs": [],
   "source": [
    "df.columns = ['title']\n",
    "data1 = df['title'].str.split(',', expand=True)\n",
    "data1.drop(data1.columns[[3,4,5,6,7,8,9,10,11,12,13,14,15,16,17,18,19,20,21,22,23,24,25,26,27,28,29,30]], axis=1, inplace=True)\n",
    "data1.columns = ['PostalCode', 'Borough', 'Neighborhood']\n",
    "data1.replace('\\n','', regex=True)\n",
    "data2 = data1.replace('\\n]','', regex=True)\n",
    "data2a = data1.PostalCode.str.replace(\"[\", \"\")\n",
    "data2.columns = ['PostalCode_1', 'Borough', 'Neighborhood']\n",
    "data3 = pd.concat([data2a, data2], axis=1, sort=False)\n",
    "data4 = data3.drop(['PostalCode_1'], axis=1)\n",
    "data5 = data4.replace('Not assigned',np.nan, regex=True)\n",
    "data6 = data5[pd.notnull(data5[\"Borough\"])]\n",
    "data6 = data6.reset_index(drop=True)\n",
    "data6.head()"
   ]
  },
  {
   "cell_type": "code",
   "execution_count": null,
   "metadata": {},
   "outputs": [],
   "source": [
    "data7a = data6['Neighborhood'].fillna(data6['Borough'])\n",
    "data7 = pd.DataFrame(data7a)\n",
    "data6.columns = ['PostalCode', 'Borough', 'Neighborhood_1']\n",
    "data8a = pd.concat([data6, data7], axis=1, sort=False)\n",
    "data8b = data8a.drop(['Neighborhood_1'], axis=1)\n",
    "data8 = data8b[:212]\n",
    "data9a = data8.groupby('PostalCode')['Neighborhood'].apply(lambda x: ', '.join(x.astype(str))).reset_index()\n",
    "data9b = data8.groupby('PostalCode')['Borough'].apply(lambda x: ', '.join(x.astype(str))).reset_index()\n",
    "data9c = data9b['Borough'].str.split(', ').apply(set).str.join(', ')\n",
    "data9d = pd.DataFrame(data9c)\n",
    "data9d.head()\n",
    "data9b.columns = ['PostalCode', 'Borough_1']\n",
    "data9e = pd.concat([data9b, data9d], axis=1, sort=False)\n",
    "data9f = data9e.drop(['Borough_1'], axis=1)\n",
    "data9a.columns = ['PostalCode_1', 'Neighborhood']\n",
    "data9g = pd.concat([data9f, data9a], axis=1, sort=False)\n",
    "data9 = data9g.drop(['PostalCode_1'], axis=1)\n",
    "data9.head()"
   ]
  },
  {
   "cell_type": "code",
   "execution_count": null,
   "metadata": {},
   "outputs": [],
   "source": [
    "cor_df = pd.read_csv(\"Geospatial_Coordinates.csv\")\n",
    "cor_df.columns = ['PostalCode', 'Latitude', 'Longitude']\n",
    "data10 = pd.merge(data9, cor_df, on=['PostalCode'])\n",
    "data10[['Latitude', 'Longitude']] = data10[['Latitude', 'Longitude']].astype(float)\n",
    "data10"
   ]
  },
  {
   "cell_type": "code",
   "execution_count": null,
   "metadata": {},
   "outputs": [],
   "source": [
    "address = 'Toronto, ON'\n",
    "\n",
    "geolocator = Nominatim()\n",
    "location = geolocator.geocode(address)\n",
    "latitude = location.latitude\n",
    "longitude = location.longitude\n",
    "print('The geograpical coordinate of', address, 'are {}, {}.'.format(latitude, longitude))"
   ]
  },
  {
   "cell_type": "code",
   "execution_count": null,
   "metadata": {},
   "outputs": [],
   "source": [
    "data_west = data10[data10['Borough'].str.contains('West Toronto')].reset_index(drop=True)\n",
    "data_west"
   ]
  },
  {
   "cell_type": "code",
   "execution_count": null,
   "metadata": {},
   "outputs": [],
   "source": [
    "data_east = data10[data10['Borough'].str.contains('East Toronto')].reset_index(drop=True)\n",
    "data_east"
   ]
  },
  {
   "cell_type": "code",
   "execution_count": null,
   "metadata": {},
   "outputs": [],
   "source": [
    "# create map of Toronto using latitude and longitude values\n",
    "map_west = folium.Map(location=[latitude, longitude], zoom_start=13)\n",
    "\n",
    "# add markers to map\n",
    "for lat, lng, borough, neighborhood in zip(data_west['Latitude'],\n",
    "                                           data_west['Longitude'],\n",
    "                                           data_west['Borough'],\n",
    "                                           data_west['Neighborhood']):\n",
    "    label = '{}, {}'.format(neighborhood, borough)\n",
    "    label = folium.Popup(label, parse_html=True)\n",
    "    folium.CircleMarker(\n",
    "        [lat, lng],\n",
    "        radius=5,\n",
    "        popup=label,\n",
    "        color='blue',\n",
    "        fill=True,\n",
    "        fill_color='#3186cc',\n",
    "        fill_opacity=0.7,\n",
    "        parse_html=False).add_to(map_west)  \n",
    "    \n",
    "map_west"
   ]
  },
  {
   "cell_type": "code",
   "execution_count": null,
   "metadata": {},
   "outputs": [],
   "source": [
    "# create map of Toronto using latitude and longitude values\n",
    "map_east = folium.Map(location=[latitude, longitude], zoom_start=13)\n",
    "\n",
    "# add markers to map\n",
    "for lat, lng, borough, neighborhood in zip(data_east['Latitude'],\n",
    "                                           data_east['Longitude'],\n",
    "                                           data_east['Borough'],\n",
    "                                           data_east['Neighborhood']):\n",
    "    label = '{}, {}'.format(neighborhood, borough)\n",
    "    label = folium.Popup(label, parse_html=True)\n",
    "    folium.CircleMarker(\n",
    "        [lat, lng],\n",
    "        radius=5,\n",
    "        popup=label,\n",
    "        color='blue',\n",
    "        fill=True,\n",
    "        fill_color='#3186cc',\n",
    "        fill_opacity=0.7,\n",
    "        parse_html=False).add_to(map_east)  \n",
    "    \n",
    "map_east"
   ]
  },
  {
   "cell_type": "code",
   "execution_count": null,
   "metadata": {},
   "outputs": [],
   "source": [
    "# @hidden_cell\n",
    "CLIENT_ID = 'hidden' # your Foursquare ID\n",
    "CLIENT_SECRET = 'hidden' # your Foursquare Secret\n",
    "VERSION = '20180604'\n",
    "LIMIT = 50000\n",
    "print('Your credentails:')\n",
    "print('CLIENT_ID: ' + CLIENT_ID)\n",
    "print('CLIENT_SECRET:' + CLIENT_SECRET)"
   ]
  },
  {
   "cell_type": "code",
   "execution_count": null,
   "metadata": {},
   "outputs": [],
   "source": [
    "data_east.loc[0, 'Neighborhood']"
   ]
  },
  {
   "cell_type": "code",
   "execution_count": null,
   "metadata": {},
   "outputs": [],
   "source": [
    "data_west.loc[0, 'Neighborhood']"
   ]
  },
  {
   "cell_type": "code",
   "execution_count": null,
   "metadata": {},
   "outputs": [],
   "source": [
    "neighborhood_latitude_east = data_east.loc[0, 'Latitude'] # neighborhood latitude value\n",
    "neighborhood_longitude_east = data_east.loc[0, 'Longitude'] # neighborhood longitude value\n",
    "\n",
    "neighborhood_name_east = data_east.loc[0, 'Neighborhood'] # neighborhood name\n",
    "\n",
    "print('Latitude and longitude values of {} are {}, {}.'.format(neighborhood_name_east, \n",
    "                                                               neighborhood_latitude_east, \n",
    "                                                               neighborhood_longitude_east))"
   ]
  },
  {
   "cell_type": "code",
   "execution_count": null,
   "metadata": {},
   "outputs": [],
   "source": [
    "neighborhood_latitude_west = data_west.loc[0, 'Latitude'] # neighborhood latitude value\n",
    "neighborhood_longitude_west = data_west.loc[0, 'Longitude'] # neighborhood longitude value\n",
    "\n",
    "neighborhood_name_west = data_west.loc[0, 'Neighborhood'] # neighborhood name\n",
    "\n",
    "print('Latitude and longitude values of {} are {}, {}.'.format(neighborhood_name_west, \n",
    "                                                               neighborhood_latitude_west, \n",
    "                                                               neighborhood_longitude_west))"
   ]
  },
  {
   "cell_type": "code",
   "execution_count": null,
   "metadata": {},
   "outputs": [],
   "source": [
    "LIMIT = 100\n",
    "radius = 1000\n",
    "\n",
    "url_4s_east = 'https://api.foursquare.com/v2/venues/explore?&client_id={}&client_secret={}&v={}&ll={},{}&radius={}&limit={}'.format(\n",
    "    CLIENT_ID, \n",
    "    CLIENT_SECRET, \n",
    "    VERSION, \n",
    "    neighborhood_latitude_east, \n",
    "    neighborhood_longitude_east, \n",
    "    radius, \n",
    "    LIMIT)\n",
    "url_4s_east"
   ]
  },
  {
   "cell_type": "code",
   "execution_count": null,
   "metadata": {},
   "outputs": [],
   "source": [
    "LIMIT = 100\n",
    "radius = 1000\n",
    "\n",
    "url_4s_west = 'https://api.foursquare.com/v2/venues/explore?&client_id={}&client_secret={}&v={}&ll={},{}&radius={}&limit={}'.format(\n",
    "    CLIENT_ID, \n",
    "    CLIENT_SECRET, \n",
    "    VERSION, \n",
    "    neighborhood_latitude_west, \n",
    "    neighborhood_longitude_west, \n",
    "    radius, \n",
    "    LIMIT)\n",
    "url_4s_west"
   ]
  },
  {
   "cell_type": "code",
   "execution_count": null,
   "metadata": {},
   "outputs": [],
   "source": [
    "results_east = requests.get(url_4s_east).json()\n",
    "\n",
    "# function that extracts the category of the venue\n",
    "def get_category_type(row):\n",
    "    try:\n",
    "        categories_list = row['categories']\n",
    "    except:\n",
    "        categories_list = row['venue.categories']\n",
    "        \n",
    "    if len(categories_list) == 0:\n",
    "        return None\n",
    "    else:\n",
    "        return categories_list[0]['name']\n",
    "    \n",
    "venues_east = results_east['response']['groups'][0]['items']\n",
    "nearby_venues_east = json_normalize(venues_east) # flatten JSON\n",
    "# filter columns\n",
    "filtered_columns_east = ['venue.name',\n",
    "                    'venue.categories',\n",
    "                    'venue.location.lat',\n",
    "                    'venue.location.lng']\n",
    "nearby_venues_east =nearby_venues_east.loc[:, filtered_columns_east]\n",
    "# filter the category for each row\n",
    "nearby_venues_east['venue.categories'] = nearby_venues_east.apply(get_category_type, axis=1)\n",
    "# clean columns\n",
    "nearby_venues_east.columns = [col.split(\".\")[-1] for col in nearby_venues_east.columns]\n",
    "nearby_venues_east"
   ]
  },
  {
   "cell_type": "code",
   "execution_count": null,
   "metadata": {},
   "outputs": [],
   "source": [
    "results_west = requests.get(url_4s_west).json()\n",
    "\n",
    "# function that extracts the category of the venue\n",
    "def get_category_type(row):\n",
    "    try:\n",
    "        categories_list = row['categories']\n",
    "    except:\n",
    "        categories_list = row['venue.categories']\n",
    "        \n",
    "    if len(categories_list) == 0:\n",
    "        return None\n",
    "    else:\n",
    "        return categories_list[0]['name']\n",
    "    \n",
    "venues_west = results_west['response']['groups'][0]['items']\n",
    "nearby_venues_west = json_normalize(venues_west) # flatten JSON\n",
    "# filter columns\n",
    "filtered_columns_west = ['venue.name',\n",
    "                    'venue.categories',\n",
    "                    'venue.location.lat',\n",
    "                    'venue.location.lng']\n",
    "nearby_venues_west =nearby_venues_west.loc[:, filtered_columns_west]\n",
    "# filter the category for each row\n",
    "nearby_venues_west['venue.categories'] = nearby_venues_west.apply(get_category_type, axis=1)\n",
    "# clean columns\n",
    "nearby_venues_west.columns = [col.split(\".\")[-1] for col in nearby_venues_west.columns]\n",
    "nearby_venues_west"
   ]
  },
  {
   "cell_type": "code",
   "execution_count": null,
   "metadata": {},
   "outputs": [],
   "source": [
    "nearby_venues_west.shape"
   ]
  },
  {
   "cell_type": "code",
   "execution_count": null,
   "metadata": {},
   "outputs": [],
   "source": [
    "print('East Toronto has {} venus,'.format(nearby_venues_east.shape[0]), 'and West Toronto has {} venus.'.format(nearby_venues_west.shape[0]))"
   ]
  },
  {
   "cell_type": "code",
   "execution_count": null,
   "metadata": {},
   "outputs": [],
   "source": [
    "def getNearbyVenues_east(names, latitudes, longitudes, radius=1000):\n",
    "    \n",
    "    venues_list_east=[]\n",
    "    for name, lat, lng in zip(names, latitudes, longitudes):\n",
    "        print(name)\n",
    "\n",
    "        url_4s1_east = 'https://api.foursquare.com/v2/venues/explore?&client_id={}&client_secret={}&v={}&ll={},{}&radius={}&limit={}'.format(\n",
    "            CLIENT_ID, \n",
    "            CLIENT_SECRET, \n",
    "            VERSION, \n",
    "            lat, \n",
    "            lng, \n",
    "            radius, \n",
    "            LIMIT)\n",
    "\n",
    "        results_east = requests.get(url_4s1_east).json()[\"response\"]['groups'][0]['items']\n",
    "\n",
    "        venues_list_east.append([(\n",
    "            name, \n",
    "            lat, \n",
    "            lng, \n",
    "            v['venue']['name'], \n",
    "            v['venue']['location']['lat'], \n",
    "            v['venue']['location']['lng'],  \n",
    "            v['venue']['categories'][0]['name']) for v in results_east])\n",
    "\n",
    "    nearby_venues_east = pd.DataFrame([item for venues_list_east in venues_list_east for item in venues_list_east])\n",
    "    nearby_venues_east.columns = ['Neighborhood', \n",
    "                  'Neighborhood Latitude', \n",
    "                  'Neighborhood Longitude', \n",
    "                  'Venue', \n",
    "                  'Venue Latitude', \n",
    "                  'Venue Longitude', \n",
    "                  'Venue Category']\n",
    "    \n",
    "    return(nearby_venues_east)"
   ]
  },
  {
   "cell_type": "code",
   "execution_count": null,
   "metadata": {},
   "outputs": [],
   "source": [
    "def getNearbyVenues_west(names, latitudes, longitudes, radius=1000):\n",
    "    \n",
    "    venues_list_west=[]\n",
    "    for name, lat, lng in zip(names, latitudes, longitudes):\n",
    "        print(name)\n",
    "\n",
    "        url_4s1_west = 'https://api.foursquare.com/v2/venues/explore?&client_id={}&client_secret={}&v={}&ll={},{}&radius={}&limit={}'.format(\n",
    "            CLIENT_ID, \n",
    "            CLIENT_SECRET, \n",
    "            VERSION, \n",
    "            lat, \n",
    "            lng, \n",
    "            radius, \n",
    "            LIMIT)\n",
    "\n",
    "        results_west = requests.get(url_4s1_west).json()[\"response\"]['groups'][0]['items']\n",
    "\n",
    "        venues_list_west.append([(\n",
    "            name, \n",
    "            lat, \n",
    "            lng, \n",
    "            v['venue']['name'], \n",
    "            v['venue']['location']['lat'], \n",
    "            v['venue']['location']['lng'],  \n",
    "            v['venue']['categories'][0]['name']) for v in results_west])\n",
    "\n",
    "    nearby_venues_west = pd.DataFrame([item for venues_list_west in venues_list_west for item in venues_list_west])\n",
    "    nearby_venues_west.columns = ['Neighborhood', \n",
    "                  'Neighborhood Latitude', \n",
    "                  'Neighborhood Longitude', \n",
    "                  'Venue', \n",
    "                  'Venue Latitude', \n",
    "                  'Venue Longitude', \n",
    "                  'Venue Category']\n",
    "    \n",
    "    return(nearby_venues_west)"
   ]
  },
  {
   "cell_type": "code",
   "execution_count": null,
   "metadata": {},
   "outputs": [],
   "source": [
    "toronto_venues_east = getNearbyVenues_east(names=data_east['Neighborhood'],\n",
    "                                   latitudes=data_east['Latitude'],\n",
    "                                   longitudes=data_east['Longitude']\n",
    "                                  )"
   ]
  },
  {
   "cell_type": "code",
   "execution_count": null,
   "metadata": {},
   "outputs": [],
   "source": [
    "toronto_venues_west = getNearbyVenues_west(names=data_west['Neighborhood'],\n",
    "                                   latitudes=data_west['Latitude'],\n",
    "                                   longitudes=data_west['Longitude']\n",
    "                                  )"
   ]
  },
  {
   "cell_type": "code",
   "execution_count": null,
   "metadata": {},
   "outputs": [],
   "source": [
    "toronto_venues_east"
   ]
  },
  {
   "cell_type": "code",
   "execution_count": null,
   "metadata": {},
   "outputs": [],
   "source": [
    "toronto_venues_west"
   ]
  },
  {
   "cell_type": "code",
   "execution_count": null,
   "metadata": {},
   "outputs": [],
   "source": [
    "toronto_venues_east.groupby('Neighborhood').count()\n",
    "print('There are {} uniques categories.'.format(len(toronto_venues_east['Venue Category'].unique())))"
   ]
  },
  {
   "cell_type": "code",
   "execution_count": null,
   "metadata": {},
   "outputs": [],
   "source": [
    "toronto_venues_west.groupby('Neighborhood').count()\n",
    "print('There are {} uniques categories.'.format(len(toronto_venues_west['Venue Category'].unique())))"
   ]
  },
  {
   "cell_type": "code",
   "execution_count": null,
   "metadata": {},
   "outputs": [],
   "source": [
    "# one hot encoding\n",
    "toronto_onehot_east = pd.get_dummies(toronto_venues_east[['Venue Category']], prefix=\"\", prefix_sep=\"\")\n",
    "\n",
    "# add neighborhood column back to dataframe\n",
    "toronto_onehot_east['Neighborhood'] = toronto_venues_east['Neighborhood'] \n",
    "\n",
    "# move neighborhood column to the first column\n",
    "fixed_columns_east = [toronto_onehot_east.columns[-1]] + list(toronto_onehot_east.columns[:-1])\n",
    "toronto_onehot_east = toronto_onehot_east[fixed_columns_east]\n",
    "\n",
    "toronto_onehot_east"
   ]
  },
  {
   "cell_type": "code",
   "execution_count": null,
   "metadata": {},
   "outputs": [],
   "source": [
    "# one hot encoding\n",
    "toronto_onehot_west = pd.get_dummies(toronto_venues_west[['Venue Category']], prefix=\"\", prefix_sep=\"\")\n",
    "\n",
    "# add neighborhood column back to dataframe\n",
    "toronto_onehot_west['Neighborhood'] = toronto_venues_west['Neighborhood'] \n",
    "\n",
    "# move neighborhood column to the first column\n",
    "fixed_columns_west = [toronto_onehot_west.columns[-1]] + list(toronto_onehot_west.columns[:-1])\n",
    "toronto_onehot_west = toronto_onehot_west[fixed_columns_west]\n",
    "\n",
    "toronto_onehot_west"
   ]
  },
  {
   "cell_type": "code",
   "execution_count": null,
   "metadata": {},
   "outputs": [],
   "source": [
    "toronto_grouped_east = toronto_onehot_east.groupby('Neighborhood').mean().reset_index()\n",
    "num_top_venues_east = 5\n",
    "\n",
    "for hood in toronto_grouped_east['Neighborhood']:\n",
    "    print(\"----\"+hood+\"----\")\n",
    "    temp = toronto_grouped_east[toronto_grouped_east['Neighborhood'] == hood].T.reset_index()\n",
    "    temp.columns = ['venue','freq']\n",
    "    temp = temp.iloc[1:]\n",
    "    temp['freq'] = temp['freq'].astype(float)\n",
    "    temp = temp.round({'freq': 2})\n",
    "    print(temp.sort_values('freq', ascending=False).reset_index(drop=True).head(num_top_venues_east))\n",
    "    print('\\n')"
   ]
  },
  {
   "cell_type": "code",
   "execution_count": null,
   "metadata": {},
   "outputs": [],
   "source": [
    "toronto_grouped_west = toronto_onehot_west.groupby('Neighborhood').mean().reset_index()\n",
    "num_top_venues_west = 5\n",
    "\n",
    "for hood in toronto_grouped_west['Neighborhood']:\n",
    "    print(\"----\"+hood+\"----\")\n",
    "    temp = toronto_grouped_west[toronto_grouped_west['Neighborhood'] == hood].T.reset_index()\n",
    "    temp.columns = ['venue','freq']\n",
    "    temp = temp.iloc[1:]\n",
    "    temp['freq'] = temp['freq'].astype(float)\n",
    "    temp = temp.round({'freq': 2})\n",
    "    print(temp.sort_values('freq', ascending=False).reset_index(drop=True).head(num_top_venues_west))\n",
    "    print('\\n')"
   ]
  },
  {
   "cell_type": "code",
   "execution_count": null,
   "metadata": {},
   "outputs": [],
   "source": [
    "def return_most_common_venues_east(row, num_top_venues_east):\n",
    "    row_categories_east = row.iloc[1:]\n",
    "    row_categories_sorted_east = row_categories_east.sort_values(ascending=False)\n",
    "    \n",
    "    return row_categories_sorted_east.index.values[0:num_top_venues_east]"
   ]
  },
  {
   "cell_type": "code",
   "execution_count": null,
   "metadata": {},
   "outputs": [],
   "source": [
    "def return_most_common_venues_west(row, num_top_venues_west):\n",
    "    row_categories_west = row.iloc[1:]\n",
    "    row_categories_sorted_west = row_categories_west.sort_values(ascending=False)\n",
    "    \n",
    "    return row_categories_sorted_west.index.values[0:num_top_venues_west]"
   ]
  },
  {
   "cell_type": "code",
   "execution_count": null,
   "metadata": {},
   "outputs": [],
   "source": [
    "num_top_venues_east = 10\n",
    "\n",
    "indicators = ['st', 'nd', 'rd']\n",
    "\n",
    "# create columns according to number of top venues\n",
    "columns = ['Neighborhood']\n",
    "for ind in np.arange(num_top_venues_east):\n",
    "    try:\n",
    "        columns.append('{}{} Most Common Venue'.format(ind+1, indicators[ind]))\n",
    "    except:\n",
    "        columns.append('{}th Most Common Venue'.format(ind+1))\n",
    "\n",
    "# create a new dataframe\n",
    "neighborhoods_venues_sorted_east = pd.DataFrame(columns=columns)\n",
    "neighborhoods_venues_sorted_east['Neighborhood'] = toronto_grouped_east['Neighborhood']\n",
    "\n",
    "for ind in np.arange(toronto_grouped_east.shape[0]):\n",
    "    neighborhoods_venues_sorted_east.iloc[ind, 1:] = return_most_common_venues_east(toronto_grouped_east.iloc[ind, :], num_top_venues_east)\n",
    "\n",
    "neighborhoods_venues_sorted_east"
   ]
  },
  {
   "cell_type": "code",
   "execution_count": null,
   "metadata": {},
   "outputs": [],
   "source": [
    "num_top_venues_west = 10\n",
    "\n",
    "indicators = ['st', 'nd', 'rd']\n",
    "\n",
    "# create columns according to number of top venues\n",
    "columns = ['Neighborhood']\n",
    "for ind in np.arange(num_top_venues_west):\n",
    "    try:\n",
    "        columns.append('{}{} Most Common Venue'.format(ind+1, indicators[ind]))\n",
    "    except:\n",
    "        columns.append('{}th Most Common Venue'.format(ind+1))\n",
    "\n",
    "# create a new dataframe\n",
    "neighborhoods_venues_sorted_west = pd.DataFrame(columns=columns)\n",
    "neighborhoods_venues_sorted_west['Neighborhood'] = toronto_grouped_west['Neighborhood']\n",
    "\n",
    "for ind in np.arange(toronto_grouped_west.shape[0]):\n",
    "    neighborhoods_venues_sorted_west.iloc[ind, 1:] = return_most_common_venues_west(toronto_grouped_west.iloc[ind, :], num_top_venues_west)\n",
    "\n",
    "neighborhoods_venues_sorted_west"
   ]
  },
  {
   "cell_type": "code",
   "execution_count": null,
   "metadata": {},
   "outputs": [],
   "source": [
    "kclusters = 5\n",
    "\n",
    "toronto_grouped_clustering_east = toronto_grouped_east.drop('Neighborhood', 1)\n",
    "\n",
    "kmeans_east = KMeans(n_clusters=kclusters, random_state=0).fit(toronto_grouped_clustering_east)\n",
    "\n",
    "kmeans_east.labels_[0:10]"
   ]
  },
  {
   "cell_type": "code",
   "execution_count": null,
   "metadata": {},
   "outputs": [],
   "source": [
    "kclusters = 5\n",
    "\n",
    "toronto_grouped_clustering_west = toronto_grouped_west.drop('Neighborhood', 1)\n",
    "\n",
    "kmeans_west = KMeans(n_clusters=kclusters, random_state=0).fit(toronto_grouped_clustering_west)\n",
    "\n",
    "kmeans_west.labels_[0:10]"
   ]
  },
  {
   "cell_type": "code",
   "execution_count": null,
   "metadata": {},
   "outputs": [],
   "source": [
    "toronto_merged_east = data_east\n",
    "\n",
    "toronto_merged_east['Cluster Labels'] = kmeans_east.labels_\n",
    "\n",
    "toronto_merged_east = toronto_merged_east.join(neighborhoods_venues_sorted_east.set_index('Neighborhood'), on='Neighborhood')\n",
    "\n",
    "toronto_merged_east.head()"
   ]
  },
  {
   "cell_type": "code",
   "execution_count": null,
   "metadata": {},
   "outputs": [],
   "source": [
    "toronto_merged_west = data_west\n",
    "\n",
    "toronto_merged_west['Cluster Labels'] = kmeans_west.labels_\n",
    "\n",
    "toronto_merged_west = toronto_merged_west.join(neighborhoods_venues_sorted_west.set_index('Neighborhood'), on='Neighborhood')\n",
    "\n",
    "toronto_merged_west.head()"
   ]
  },
  {
   "cell_type": "code",
   "execution_count": null,
   "metadata": {},
   "outputs": [],
   "source": [
    "map_clusters_east = folium.Map(location=[latitude, longitude], zoom_start=13)\n",
    "\n",
    "# set color scheme for the clusters\n",
    "x = np.arange(kclusters)\n",
    "ys = [i+x+(i*x)**2 for i in range(kclusters)]\n",
    "colors_array = cm.rainbow(np.linspace(0, 1, len(ys)))\n",
    "rainbow = [colors.rgb2hex(i) for i in colors_array]\n",
    "\n",
    "# add markers to the map\n",
    "markers_colors = []\n",
    "for lat, lon, poi, cluster in zip(toronto_merged_east['Latitude'],\n",
    "                                  toronto_merged_east['Longitude'],\n",
    "                                  toronto_merged_east['Neighborhood'],\n",
    "                                  toronto_merged_east['Cluster Labels']):\n",
    "    label = folium.Popup(str(poi) + ' Cluster ' + str(cluster), parse_html=True)\n",
    "    folium.CircleMarker(\n",
    "        [lat, lon],\n",
    "        radius=5,\n",
    "        popup=label,\n",
    "        color=rainbow[cluster-1],\n",
    "        fill=True,\n",
    "        fill_color=rainbow[cluster-1],\n",
    "        fill_opacity=0.7).add_to(map_clusters_east)\n",
    "       \n",
    "map_clusters_east"
   ]
  },
  {
   "cell_type": "code",
   "execution_count": null,
   "metadata": {},
   "outputs": [],
   "source": [
    "map_clusters_west = folium.Map(location=[latitude, longitude], zoom_start=13)\n",
    "\n",
    "# set color scheme for the clusters\n",
    "x = np.arange(kclusters)\n",
    "ys = [i+x+(i*x)**2 for i in range(kclusters)]\n",
    "colors_array = cm.rainbow(np.linspace(0, 1, len(ys)))\n",
    "rainbow = [colors.rgb2hex(i) for i in colors_array]\n",
    "\n",
    "# add markers to the map\n",
    "markers_colors = []\n",
    "for lat, lon, poi, cluster in zip(toronto_merged_west['Latitude'],\n",
    "                                  toronto_merged_west['Longitude'],\n",
    "                                  toronto_merged_west['Neighborhood'],\n",
    "                                  toronto_merged_west['Cluster Labels']):\n",
    "    label = folium.Popup(str(poi) + ' Cluster ' + str(cluster), parse_html=True)\n",
    "    folium.CircleMarker(\n",
    "        [lat, lon],\n",
    "        radius=5,\n",
    "        popup=label,\n",
    "        color=rainbow[cluster-1],\n",
    "        fill=True,\n",
    "        fill_color=rainbow[cluster-1],\n",
    "        fill_opacity=0.7).add_to(map_clusters_west)\n",
    "       \n",
    "map_clusters_west"
   ]
  },
  {
   "cell_type": "code",
   "execution_count": null,
   "metadata": {},
   "outputs": [],
   "source": [
    "toronto_east_group = toronto_venues_east.groupby('Venue Category').count()\n",
    "print('There are {} uniques categories.'.format(len(toronto_venues_east['Venue Category'].unique())))"
   ]
  },
  {
   "cell_type": "code",
   "execution_count": null,
   "metadata": {},
   "outputs": [],
   "source": [
    "toronto_west_group = toronto_venues_west.groupby('Venue Category').count()\n",
    "print('There are {} uniques categories.'.format(len(toronto_venues_west['Venue Category'].unique())))"
   ]
  },
  {
   "cell_type": "code",
   "execution_count": null,
   "metadata": {
    "scrolled": true
   },
   "outputs": [],
   "source": [
    "toronto_east_group.sort_values(by='Neighborhood', ascending=True, inplace=True)\n",
    "\n",
    "df_top10_east = toronto_east_group['Neighborhood'].tail(10)\n",
    "df_top10_east"
   ]
  },
  {
   "cell_type": "code",
   "execution_count": null,
   "metadata": {},
   "outputs": [],
   "source": [
    "toronto_west_group.sort_values(by='Neighborhood', ascending=True, inplace=True)\n",
    "\n",
    "df_top10_west = toronto_west_group['Neighborhood'].tail(10)\n",
    "df_top10_west"
   ]
  },
  {
   "cell_type": "code",
   "execution_count": null,
   "metadata": {},
   "outputs": [],
   "source": [
    "df_top10_east.plot(kind='barh', figsize=(12, 12), color='limegreen')\n",
    "plt.xlabel('Kind of Shops')\n",
    "plt.title('Top 15 kind of shops in Totonto - East')\n",
    "\n",
    "plt.show()"
   ]
  },
  {
   "cell_type": "code",
   "execution_count": null,
   "metadata": {},
   "outputs": [],
   "source": [
    "df_top10_west.plot(kind='barh', figsize=(12, 12), color='orange')\n",
    "plt.xlabel('Kind of Shops')\n",
    "plt.title('Top 15 kind of shops in Totonto - West')\n",
    "\n",
    "plt.show()"
   ]
  },
  {
   "cell_type": "code",
   "execution_count": null,
   "metadata": {},
   "outputs": [],
   "source": []
  }
 ],
 "metadata": {
  "kernelspec": {
   "display_name": "Python 3",
   "language": "python",
   "name": "python3"
  },
  "language_info": {
   "codemirror_mode": {
    "name": "ipython",
    "version": 3
   },
   "file_extension": ".py",
   "mimetype": "text/x-python",
   "name": "python",
   "nbconvert_exporter": "python",
   "pygments_lexer": "ipython3",
   "version": "3.6.5"
  }
 },
 "nbformat": 4,
 "nbformat_minor": 2
}
